{
 "cells": [
  {
   "cell_type": "markdown",
   "id": "d03f2161",
   "metadata": {},
   "source": [
    "<h1> LinkedIn Scrapping </h1>"
   ]
  },
  {
   "cell_type": "markdown",
   "id": "d39fa735",
   "metadata": {},
   "source": [
    "<h3> Librerias y requerimientos. </h3>\n",
    "\n",
    "- Instalación de selenium y beautifulsoup4"
   ]
  },
  {
   "cell_type": "code",
   "execution_count": 38,
   "id": "8d46b5ec",
   "metadata": {},
   "outputs": [],
   "source": [
    "#!pip install -r requirements.txt"
   ]
  },
  {
   "cell_type": "markdown",
   "id": "db23e8d9",
   "metadata": {},
   "source": [
    "- Instalación de driver para uso de selenium en Google Chrome.\n",
    "\n",
    "1. Ingresar a: https://sites.google.com/chromium.org/driver/\n",
    "2. Ingresar a Downloads.\n",
    "3. Seleccionar la versión del driver de acuerdo a la versión de Google Chrome y el sistema operativo donde será instalado.\n",
    "4. Descomprimir el archivo descargado y abrir el archivo ejecutable.\n",
    "5. Extraer el path o ruta donde se encuenta el archivo chromedriver.exe"
   ]
  },
  {
   "cell_type": "markdown",
   "id": "2c5b266f",
   "metadata": {},
   "source": [
    "- Importar librerias."
   ]
  },
  {
   "cell_type": "code",
   "execution_count": 1,
   "id": "32ae2850",
   "metadata": {},
   "outputs": [],
   "source": [
    "from selenium import webdriver\n",
    "from bs4 import BeautifulSoup\n",
    "import time\n",
    "from selenium.webdriver.common.keys import Keys\n",
    "import pandas as pd\n",
    "import warnings\n",
    "from datetime import date\n",
    "warnings.filterwarnings(\"ignore\")"
   ]
  },
  {
   "cell_type": "code",
   "execution_count": 2,
   "id": "c8447b14",
   "metadata": {},
   "outputs": [],
   "source": [
    "fecha = date.today().strftime('%Y-%m-%d')"
   ]
  },
  {
   "cell_type": "markdown",
   "id": "1552ada2",
   "metadata": {},
   "source": [
    "<h3> 1. LinkedIn </h3>"
   ]
  },
  {
   "cell_type": "code",
   "execution_count": 4,
   "id": "e6e55c42",
   "metadata": {},
   "outputs": [
    {
     "name": "stdout",
     "output_type": "stream",
     "text": [
      "- ¿Qué desea buscar?: developer sr mexico\n",
      "- ¿Cuántas páginas desea consultar?: 10\n"
     ]
    }
   ],
   "source": [
    "#Definir el path del chromedriver.exe\n",
    "ChromePath = \"C:\\chromedriver.exe\"\n",
    "\n",
    "#Credenciales LinkedIn\n",
    "email = \"\"\n",
    "pwd = \"\"\n",
    "\n",
    "#Busqueda\n",
    "search = input(\"- ¿Qué desea buscar?: \")\n",
    "results = int(input(\"- ¿Cuántas páginas desea consultar?: \"))"
   ]
  },
  {
   "cell_type": "code",
   "execution_count": 5,
   "id": "9ed0eb2f",
   "metadata": {},
   "outputs": [
    {
     "name": "stdout",
     "output_type": "stream",
     "text": [
      "- Página 1: Cargada.\n",
      "- Página 2: Cargada.\n",
      "- Página 3: Cargada.\n",
      "- Página 4: Cargada.\n",
      "- Página 5: Cargada.\n",
      "- Página 6: Cargada.\n",
      "- Página 7: Cargada.\n",
      "- Página 8: Cargada.\n",
      "- Página 9: Cargada.\n",
      "- Página 10: Cargada.\n"
     ]
    }
   ],
   "source": [
    "#Web Driver Object\n",
    "driver = webdriver.Chrome(executable_path=ChromePath)\n",
    "driver.maximize_window()\n",
    "driver.get(\"https://www.linkedin.com/login\")\n",
    "\n",
    "time.sleep(3) #Tiempo de espera para cargar la página\n",
    "\n",
    "#Login a LinkeIn\n",
    "driver.find_element_by_id('username').send_keys(email)\n",
    "driver.find_element_by_id('password').send_keys(pwd)\n",
    "driver.find_element_by_id('password').send_keys(Keys.RETURN)\n",
    "\n",
    "time.sleep(3)\n",
    "\n",
    "#Ingresa busqueda en contenedor\n",
    "driver.find_element_by_class_name('search-global-typeahead__input').send_keys(search)\n",
    "driver.find_element_by_class_name('search-global-typeahead__input').send_keys(Keys.RETURN)\n",
    "\n",
    "time.sleep(3)\n",
    "\n",
    "#Expandir resultados de personas\n",
    "driver.find_element_by_link_text(\"Ver todos los resultados de personas\").click()\n",
    "\n",
    "time.sleep(1)\n",
    "lista_maestra = []\n",
    "for i in range(1,results+1):\n",
    "    time.sleep(1)\n",
    "    if i == 1:\n",
    "        profiles = driver.find_elements_by_xpath(\"//a[@class='app-aware-link']\") #Extraer URL de todos los perfiles\n",
    "        time.sleep(2)\n",
    "        lista_url = []\n",
    "        for j in profiles:\n",
    "            var = j.get_attribute('href')\n",
    "            if (\"SHARED_CONNECTIONS_CANNED_SEARCH\" in var) or (\"/in/ACo\" in var): #Tomar perfiles solo del listado\n",
    "                continue\n",
    "            else:\n",
    "                lista_url.append(var) #Extraer URL\n",
    "        print(\"- Página 1: Cargada.\")\n",
    "        driver.execute_script(\"window.scrollTo(0, document.body.scrollHeight);\")\n",
    "        \n",
    "    else: #Control de paginación\n",
    "        try:\n",
    "            driver.find_element_by_xpath(f'//li[@data-test-pagination-page-btn=\"{i}\"]').click()\n",
    "            time.sleep(2)\n",
    "            profiles = driver.find_elements_by_xpath(\"//a[@class='app-aware-link']\")\n",
    "            time.sleep(1)\n",
    "            lista_url = []\n",
    "            for j in profiles:\n",
    "                var = j.get_attribute('href')\n",
    "                if (\"SHARED_CONNECTIONS_CANNED_SEARCH\" in var) or (\"/in/ACo\" in var):\n",
    "                    continue\n",
    "                else:\n",
    "                    lista_url.append(var)\n",
    "            print(f\"- Página {i}: Cargada.\")\n",
    "            driver.execute_script(\"window.scrollTo(0, document.body.scrollHeight);\")\n",
    "            \n",
    "        except:\n",
    "            driver.find_element_by_xpath(f'//button[@aria-label=\"Página {i}\"]').click()\n",
    "            time.sleep(2)\n",
    "            profiles = driver.find_elements_by_xpath(\"//a[@class='app-aware-link']\")\n",
    "            time.sleep(1)\n",
    "            lista_url = []\n",
    "            for j in profiles:\n",
    "                var = j.get_attribute('href')\n",
    "                if (\"SHARED_CONNECTIONS_CANNED_SEARCH\" in var) or (\"/in/ACo\" in var):\n",
    "                    continue\n",
    "                else:\n",
    "                    lista_url.append(var)\n",
    "            print(f\"- Página {i}: Cargada.\")\n",
    "            driver.execute_script(\"window.scrollTo(0, document.body.scrollHeight);\")\n",
    "\n",
    "    \n",
    "    lista_maestra = lista_maestra + lista_url #Listado maestro de URL"
   ]
  },
  {
   "cell_type": "code",
   "execution_count": 6,
   "id": "55c148bc",
   "metadata": {},
   "outputs": [],
   "source": [
    "lista_maestra = [ x for x in lista_maestra if \"https://www.linkedin.com/search/results/people/headless?origin=CLUSTER_EXPANSION&keywords=\" not in x ]"
   ]
  },
  {
   "cell_type": "code",
   "execution_count": 7,
   "id": "5def156c",
   "metadata": {},
   "outputs": [
    {
     "data": {
      "text/html": [
       "<div>\n",
       "<style scoped>\n",
       "    .dataframe tbody tr th:only-of-type {\n",
       "        vertical-align: middle;\n",
       "    }\n",
       "\n",
       "    .dataframe tbody tr th {\n",
       "        vertical-align: top;\n",
       "    }\n",
       "\n",
       "    .dataframe thead th {\n",
       "        text-align: right;\n",
       "    }\n",
       "</style>\n",
       "<table border=\"1\" class=\"dataframe\">\n",
       "  <thead>\n",
       "    <tr style=\"text-align: right;\">\n",
       "      <th></th>\n",
       "      <th>Nombre</th>\n",
       "      <th>Rol</th>\n",
       "      <th>Empresa</th>\n",
       "      <th>Ubicacion</th>\n",
       "      <th>LinkedIn URL</th>\n",
       "    </tr>\n",
       "  </thead>\n",
       "  <tbody>\n",
       "    <tr>\n",
       "      <th>0</th>\n",
       "      <td>Luis Eduardo Navarrete Ramos</td>\n",
       "      <td>Sr. backend developer (Python)</td>\n",
       "      <td>Terminal</td>\n",
       "      <td>Benito Juárez, Ciudad de México, México</td>\n",
       "      <td>https://www.linkedin.com/in/luis-eduardo-navar...</td>\n",
       "    </tr>\n",
       "    <tr>\n",
       "      <th>1</th>\n",
       "      <td>Isabel Sánchez</td>\n",
       "      <td>Senior Data Systems Enginner(Bussines Intellig...</td>\n",
       "      <td></td>\n",
       "      <td>Naucalpan de Juárez, México, México</td>\n",
       "      <td>https://www.linkedin.com/in/isabel-s%C3%A1nche...</td>\n",
       "    </tr>\n",
       "    <tr>\n",
       "      <th>2</th>\n",
       "      <td>Christian Andres Lopez Valdez</td>\n",
       "      <td>Sr Python Developer @ TrueLogic</td>\n",
       "      <td></td>\n",
       "      <td>Toluca, México, México</td>\n",
       "      <td>https://www.linkedin.com/in/catfor?miniProfile...</td>\n",
       "    </tr>\n",
       "    <tr>\n",
       "      <th>3</th>\n",
       "      <td>Cristian Alejandro Hernández</td>\n",
       "      <td>Data Engineer @ Coppel</td>\n",
       "      <td></td>\n",
       "      <td>Puebla, Puebla, México</td>\n",
       "      <td>https://www.linkedin.com/in/cristian-alejandro...</td>\n",
       "    </tr>\n",
       "    <tr>\n",
       "      <th>4</th>\n",
       "      <td>Juan Felipe Bernal</td>\n",
       "      <td>Business Developer Manager - México / Elenas</td>\n",
       "      <td>Elenas</td>\n",
       "      <td>Bogotá, Distrito Capital, Colombia</td>\n",
       "      <td>https://www.linkedin.com/in/juanbernal92?miniP...</td>\n",
       "    </tr>\n",
       "  </tbody>\n",
       "</table>\n",
       "</div>"
      ],
      "text/plain": [
       "                          Nombre  \\\n",
       "0   Luis Eduardo Navarrete Ramos   \n",
       "1                 Isabel Sánchez   \n",
       "2  Christian Andres Lopez Valdez   \n",
       "3   Cristian Alejandro Hernández   \n",
       "4             Juan Felipe Bernal   \n",
       "\n",
       "                                                 Rol   Empresa  \\\n",
       "0                     Sr. backend developer (Python)  Terminal   \n",
       "1  Senior Data Systems Enginner(Bussines Intellig...             \n",
       "2                    Sr Python Developer @ TrueLogic             \n",
       "3                             Data Engineer @ Coppel             \n",
       "4       Business Developer Manager - México / Elenas    Elenas   \n",
       "\n",
       "                                 Ubicacion  \\\n",
       "0  Benito Juárez, Ciudad de México, México   \n",
       "1      Naucalpan de Juárez, México, México   \n",
       "2                   Toluca, México, México   \n",
       "3                   Puebla, Puebla, México   \n",
       "4       Bogotá, Distrito Capital, Colombia   \n",
       "\n",
       "                                        LinkedIn URL  \n",
       "0  https://www.linkedin.com/in/luis-eduardo-navar...  \n",
       "1  https://www.linkedin.com/in/isabel-s%C3%A1nche...  \n",
       "2  https://www.linkedin.com/in/catfor?miniProfile...  \n",
       "3  https://www.linkedin.com/in/cristian-alejandro...  \n",
       "4  https://www.linkedin.com/in/juanbernal92?miniP...  "
      ]
     },
     "execution_count": 7,
     "metadata": {},
     "output_type": "execute_result"
    }
   ],
   "source": [
    "df = pd.DataFrame(columns = [\"Nombre\",\"Rol\",\"Empresa\",\"Ubicacion\",\"LinkedIn URL\"]) #Estructura DataFrame final\n",
    "i = 1\n",
    "for url in lista_maestra:\n",
    "    driver.get(url)\n",
    "    intro = BeautifulSoup(driver.page_source, 'lxml').find('div', {'class': 'mt2 relative'}) #Convertir página a xml\n",
    "    \n",
    "    nombre = intro.find(\"h1\").get_text().strip()\n",
    "    Rol = intro.find(\"div\", {'class': 'text-body-medium'}).get_text().strip()\n",
    "    \n",
    "    try:\n",
    "        empresa = intro.find(\"li\", {'class': 'pv-text-details__right-panel-item'}).get_text().strip()\n",
    "    except:\n",
    "        empresa = \"\"\n",
    "    \n",
    "    try:\n",
    "        ubicacion = intro.find(\"span\", {'class': 'text-body-small inline t-black--light break-words'}).get_text().strip()\n",
    "    except:\n",
    "        ubicacion = \"\"\n",
    "        \n",
    "    row = pd.Series([nombre,Rol,empresa,ubicacion,url], index = df.columns)\n",
    "    \n",
    "    #Población de DataFrame con datos de cada perfil\n",
    "    df = df.append(row, ignore_index=True)\n",
    "    time.sleep(1)\n",
    "\n",
    "df.head()"
   ]
  },
  {
   "cell_type": "code",
   "execution_count": 8,
   "id": "4e9fbaa7",
   "metadata": {},
   "outputs": [
    {
     "name": "stdout",
     "output_type": "stream",
     "text": [
      "- Se exportaron 83 perfiles.\n"
     ]
    }
   ],
   "source": [
    "#Exportar Datos\n",
    "df.to_excel(f\"{fecha} LinkedIn Scrapping - {search}.xlsx\")\n",
    "print(f\"- Se exportaron {len(df)} perfiles.\")"
   ]
  }
 ],
 "metadata": {
  "kernelspec": {
   "display_name": "Python 3 (ipykernel)",
   "language": "python",
   "name": "python3"
  },
  "language_info": {
   "codemirror_mode": {
    "name": "ipython",
    "version": 3
   },
   "file_extension": ".py",
   "mimetype": "text/x-python",
   "name": "python",
   "nbconvert_exporter": "python",
   "pygments_lexer": "ipython3",
   "version": "3.9.7"
  }
 },
 "nbformat": 4,
 "nbformat_minor": 5
}
